{
 "cells": [
  {
   "cell_type": "markdown",
   "metadata": {},
   "source": []
  },
  {
   "cell_type": "markdown",
   "metadata": {},
   "source": [
    "1. *Using a Module:* \n",
    "   To use a module in Python, you need to import it using the import keyword followed by the module name.\n",
    "\n",
    "2. import math\n",
    "   # Example usage\n",
    "   print(math.sqrt(16))  # Output: 4.0\n",
    "\n",
    "3. *Benefits of Exception Handling:* \n",
    "   A benefit of exception handling is to gracefully handle errors or unexpected scenarios in your code, preventing it from crashing.\n",
    "\n",
    "4. *Components of Python Exception Handling:*\n",
    "   The four components used for Python Exception Handling are try, except, else, and finally\n",
    "\n",
    "5. *NumPy Arrays & Python Data Type:* \n",
    "   NumPy arrays are like Python lists, but with added functionalities for numerical operations.\n",
    "\n",
    "6. *Main Benefits of Using NumPy Arrays:*\n",
    "   One of the main benefits of using NumPy arrays is their ability to perform fast numerical computations on large datasets efficiently.\n",
    "\n",
    "7. *Main Requirement About Type of NumPy Arrays:*\n",
    "   The main requirement about the type of NumPy arrays is that they should have a uniform data type for all elements.\n",
    "\n",
    "8. *Uses of NumPy:* \n",
    "   Two uses of NumPy are for mathematical operations and data manipulation.\n",
    "\n",
    "9. *Other Libraries with NumPy:* \n",
    "   One of the other libraries we'll use with NumPy is pandas.\n",
    "\n",
    "10. *Shape of NumPy Arrays:* \n",
    "    The shape of NumPy arrays refers to the dimensions and sizes of the array.\n",
    "\n",
    "11. *Tensor:* \n",
    "    A tensor is a multi-dimensional array used in deep learning and machine learning.\n",
    "\n",
    "12. *Using NumPy for Data Analysis vs Python List:* \n",
    "    NumPy is better for data analysis than using a Python list because of its speed, efficiency, and built-in functions for array operations.\n",
    "\n",
    "13. *Creating an Empty NumPy Array:* \n",
    "    When creating an \"empty\" array, the elements in the array are uninitialized and can contain random values.\n",
    "\n",
    "   \n",
    "   "
   ]
  },
  {
   "cell_type": "markdown",
   "metadata": {},
   "source": [
    "*Flow Control Methods:*"
   ]
  },
  {
   "cell_type": "code",
   "execution_count": 4,
   "metadata": {},
   "outputs": [
    {
     "name": "stdout",
     "output_type": "stream",
     "text": [
      "Renting a car is more affordable\n"
     ]
    }
   ],
   "source": [
    "1.\n",
    "age = 26\n",
    "if age >= 25:\n",
    "    print(\"Renting a car is more affordable\")\n",
    "else:\n",
    "    print(\"Renting a car is very expensive\")"
   ]
  },
  {
   "cell_type": "code",
   "execution_count": 5,
   "metadata": {},
   "outputs": [
    {
     "name": "stdout",
     "output_type": "stream",
     "text": [
      "Renting a car is very expensive\n"
     ]
    }
   ],
   "source": [
    "2.\n",
    "age = 20\n",
    "if age >= 25:\n",
    "    print(\"Renting a car is more affordable\")\n",
    "elif age >= 18:\n",
    "    print(\"Renting a car is very expensive\")\n",
    "else:\n",
    "    print(\"You cannot legally rent a car\")"
   ]
  },
  {
   "cell_type": "code",
   "execution_count": 3,
   "metadata": {},
   "outputs": [
    {
     "name": "stdout",
     "output_type": "stream",
     "text": [
      "e\n",
      "u\n",
      "i\n",
      "o\n",
      "o\n",
      "u\n",
      "o\n",
      "e\n",
      "e\n",
      "a\n",
      "o\n",
      "Total Characters: 1\n"
     ]
    }
   ],
   "source": [
    "3. \n",
    "text = \"The quick brown fox jumps over the lazy dog\"\n",
    "vowels = ['a', 'e', 'i', 'o', 'u']\n",
    "count = 2\n",
    "for char in text.lower():\n",
    "    count = 1\n",
    "    if char in vowels:\n",
    "        print(char)\n",
    "print(\"Total Characters:\", count)"
   ]
  },
  {
   "cell_type": "code",
   "execution_count": 4,
   "metadata": {},
   "outputs": [
    {
     "name": "stdout",
     "output_type": "stream",
     "text": [
      "trousers cerise\n",
      "trousers fuchsia\n",
      "trousers aqua\n",
      "trousers maple\n",
      "trousers auburn\n",
      "trousers burnt sienna\n",
      "trousers gunmetal blue\n",
      "trousers Dark Sapphire\n",
      "blouse cerise\n",
      "blouse fuchsia\n",
      "blouse aqua\n",
      "blouse maple\n",
      "blouse auburn\n",
      "blouse burnt sienna\n",
      "blouse gunmetal blue\n",
      "blouse Dark Sapphire\n",
      "bandana cerise\n",
      "bandana fuchsia\n",
      "bandana aqua\n",
      "bandana maple\n",
      "bandana auburn\n",
      "bandana burnt sienna\n",
      "bandana gunmetal blue\n",
      "bandana Dark Sapphire\n",
      "cumber band cerise\n",
      "cumber band fuchsia\n",
      "cumber band aqua\n",
      "cumber band maple\n",
      "cumber band auburn\n",
      "cumber band burnt sienna\n",
      "cumber band gunmetal blue\n",
      "cumber band Dark Sapphire\n",
      "blazer cerise\n",
      "blazer fuchsia\n",
      "blazer aqua\n",
      "blazer maple\n",
      "blazer auburn\n",
      "blazer burnt sienna\n",
      "blazer gunmetal blue\n",
      "blazer Dark Sapphire\n",
      "vest cerise\n",
      "vest fuchsia\n",
      "vest aqua\n",
      "vest maple\n",
      "vest auburn\n",
      "vest burnt sienna\n",
      "vest gunmetal blue\n",
      "vest Dark Sapphire\n",
      "french beret cerise\n",
      "french beret fuchsia\n",
      "french beret aqua\n",
      "french beret maple\n",
      "french beret auburn\n",
      "french beret burnt sienna\n",
      "french beret gunmetal blue\n",
      "french beret Dark Sapphire\n",
      "scarf cerise\n",
      "scarf fuchsia\n",
      "scarf aqua\n",
      "scarf maple\n",
      "scarf auburn\n",
      "scarf burnt sienna\n",
      "scarf gunmetal blue\n",
      "scarf Dark Sapphire\n",
      "stole cerise\n",
      "stole fuchsia\n",
      "stole aqua\n",
      "stole maple\n",
      "stole auburn\n",
      "stole burnt sienna\n",
      "stole gunmetal blue\n",
      "stole Dark Sapphire\n"
     ]
    }
   ],
   "source": [
    " 4.\n",
    "couture = [\"trousers\", \"blouse\", \"bandana\", \"cumber band\", \"blazer\", \"vest\", \"french beret\", \"scarf\", \"stole\"]\n",
    "panettone = (\"cerise\", \"fuchsia\", \"aqua\", \"maple\", \"auburn\", \"burnt sienna\", \"gunmetal blue\", \"Dark Sapphire\")\n",
    "\n",
    "for list in couture:\n",
    "    for color in panettone:\n",
    "        print(list, color)"
   ]
  },
  {
   "cell_type": "code",
   "execution_count": 16,
   "metadata": {},
   "outputs": [
    {
     "name": "stdout",
     "output_type": "stream",
     "text": [
      "Sum of numbers from 1 to 100: 5050\n"
     ]
    }
   ],
   "source": [
    " 5.\n",
    "total_sum = 0\n",
    "for i in range(1, 101):\n",
    "    total_sum += i\n",
    "print(\"Sum of numbers from 1 to 100:\", total_sum)"
   ]
  },
  {
   "cell_type": "code",
   "execution_count": 15,
   "metadata": {},
   "outputs": [
    {
     "name": "stdout",
     "output_type": "stream",
     "text": [
      "banana\n"
     ]
    }
   ],
   "source": [
    " 6.\n",
    "fruits = [\"apple\", \"banana\", \"cherry\"]\n",
    "print(fruits[1])  # Output: \"banana\""
   ]
  },
  {
   "cell_type": "code",
   "execution_count": 5,
   "metadata": {},
   "outputs": [
    {
     "ename": "NameError",
     "evalue": "name 'fruits' is not defined",
     "output_type": "error",
     "traceback": [
      "\u001b[1;31m---------------------------------------------------------------------------\u001b[0m",
      "\u001b[1;31mNameError\u001b[0m                                 Traceback (most recent call last)",
      "Cell \u001b[1;32mIn[5], line 2\u001b[0m\n\u001b[0;32m      1\u001b[0m \u001b[38;5;241m7.\u001b[39m\n\u001b[1;32m----> 2\u001b[0m \u001b[43mfruits\u001b[49m[\u001b[38;5;241m0\u001b[39m] \u001b[38;5;241m=\u001b[39m \u001b[38;5;124m\"\u001b[39m\u001b[38;5;124mkiwi\u001b[39m\u001b[38;5;124m\"\u001b[39m\n\u001b[0;32m      3\u001b[0m \u001b[38;5;28mprint\u001b[39m(fruits)  \n\u001b[0;32m      4\u001b[0m \u001b[38;5;66;03m# Output: [\"kiwi\", \"banana\", \"cherry\"]\u001b[39;00m\n",
      "\u001b[1;31mNameError\u001b[0m: name 'fruits' is not defined"
     ]
    }
   ],
   "source": [
    " 7.\n",
    "fruits[0] = \"kiwi\"\n",
    "print(fruits)  \n",
    "# Output: [\"kiwi\", \"banana\", \"cherry\"]\n"
   ]
  },
  {
   "cell_type": "code",
   "execution_count": 13,
   "metadata": {},
   "outputs": [
    {
     "ename": "NameError",
     "evalue": "name 'fruits' is not defined",
     "output_type": "error",
     "traceback": [
      "\u001b[1;31m---------------------------------------------------------------------------\u001b[0m",
      "\u001b[1;31mNameError\u001b[0m                                 Traceback (most recent call last)",
      "Cell \u001b[1;32mIn[13], line 2\u001b[0m\n\u001b[0;32m      1\u001b[0m \u001b[38;5;241m8.\u001b[39m\n\u001b[1;32m----> 2\u001b[0m \u001b[43mfruits\u001b[49m\u001b[38;5;241m.\u001b[39mappend(\u001b[38;5;124m\"\u001b[39m\u001b[38;5;124morange\u001b[39m\u001b[38;5;124m\"\u001b[39m)\n\u001b[0;32m      3\u001b[0m \u001b[38;5;28mprint\u001b[39m(fruits)  \u001b[38;5;66;03m# Output: [\"kiwi\", \"banana\", \"cherry\", \"orange\"]\u001b[39;00m\n",
      "\u001b[1;31mNameError\u001b[0m: name 'fruits' is not defined"
     ]
    }
   ],
   "source": [
    " 8.\n",
    "fruits.append(\"orange\")\n",
    "print(fruits)  # Output: [\"kiwi\", \"banana\", \"cherry\", \"orange\"]"
   ]
  },
  {
   "cell_type": "code",
   "execution_count": 12,
   "metadata": {},
   "outputs": [
    {
     "ename": "NameError",
     "evalue": "name 'fruits' is not defined",
     "output_type": "error",
     "traceback": [
      "\u001b[1;31m---------------------------------------------------------------------------\u001b[0m",
      "\u001b[1;31mNameError\u001b[0m                                 Traceback (most recent call last)",
      "Cell \u001b[1;32mIn[12], line 2\u001b[0m\n\u001b[0;32m      1\u001b[0m \u001b[38;5;241m9.\u001b[39m\n\u001b[1;32m----> 2\u001b[0m \u001b[43mfruits\u001b[49m\u001b[38;5;241m.\u001b[39minsert(\u001b[38;5;241m1\u001b[39m, \u001b[38;5;124m\"\u001b[39m\u001b[38;5;124mlemon\u001b[39m\u001b[38;5;124m\"\u001b[39m)\n\u001b[0;32m      3\u001b[0m \u001b[38;5;28mprint\u001b[39m(fruits)  \u001b[38;5;66;03m# Output: [\"kiwi\", \"lemon\", \"banana\", \"cherry\", \"orange\"]\u001b[39;00m\n",
      "\u001b[1;31mNameError\u001b[0m: name 'fruits' is not defined"
     ]
    }
   ],
   "source": [
    "9.\n",
    "fruits.insert(1, \"lemon\")\n",
    "print(fruits)  # Output: [\"kiwi\", \"lemon\", \"banana\", \"cherry\", \"orange\"]"
   ]
  },
  {
   "cell_type": "code",
   "execution_count": 11,
   "metadata": {},
   "outputs": [
    {
     "ename": "NameError",
     "evalue": "name 'fruits' is not defined",
     "output_type": "error",
     "traceback": [
      "\u001b[1;31m---------------------------------------------------------------------------\u001b[0m",
      "\u001b[1;31mNameError\u001b[0m                                 Traceback (most recent call last)",
      "Cell \u001b[1;32mIn[11], line 2\u001b[0m\n\u001b[0;32m      1\u001b[0m \u001b[38;5;241m10.\u001b[39m\n\u001b[1;32m----> 2\u001b[0m \u001b[43mfruits\u001b[49m\u001b[38;5;241m.\u001b[39mremove(\u001b[38;5;124m\"\u001b[39m\u001b[38;5;124mbanana\u001b[39m\u001b[38;5;124m\"\u001b[39m)\n\u001b[0;32m      3\u001b[0m \u001b[38;5;28mprint\u001b[39m(fruits)  \u001b[38;5;66;03m# Output: [\"kiwi\", \"lemon\", \"cherry\", \"orange\"]\u001b[39;00m\n",
      "\u001b[1;31mNameError\u001b[0m: name 'fruits' is not defined"
     ]
    }
   ],
   "source": [
    "10.\n",
    "fruits.remove(\"banana\")\n",
    "print(fruits)  # Output: [\"kiwi\", \"lemon\", \"cherry\", \"orange\"]"
   ]
  },
  {
   "cell_type": "code",
   "execution_count": 10,
   "metadata": {},
   "outputs": [
    {
     "ename": "NameError",
     "evalue": "name 'fruits' is not defined",
     "output_type": "error",
     "traceback": [
      "\u001b[1;31m---------------------------------------------------------------------------\u001b[0m",
      "\u001b[1;31mNameError\u001b[0m                                 Traceback (most recent call last)",
      "Cell \u001b[1;32mIn[10], line 2\u001b[0m\n\u001b[0;32m      1\u001b[0m \u001b[38;5;241m11.\u001b[39m\n\u001b[1;32m----> 2\u001b[0m \u001b[38;5;28mprint\u001b[39m(\u001b[43mfruits\u001b[49m[\u001b[38;5;241m2\u001b[39m], fruits[\u001b[38;5;241m-\u001b[39m\u001b[38;5;241m2\u001b[39m])  \u001b[38;5;66;03m# Output: cherry, lemon\u001b[39;00m\n",
      "\u001b[1;31mNameError\u001b[0m: name 'fruits' is not defined"
     ]
    }
   ],
   "source": [
    "11.\n",
    "print(fruits[2], fruits[-2])  # Output: cherry, lemon"
   ]
  },
  {
   "cell_type": "code",
   "execution_count": 9,
   "metadata": {},
   "outputs": [
    {
     "ename": "NameError",
     "evalue": "name 'fruits' is not defined",
     "output_type": "error",
     "traceback": [
      "\u001b[1;31m---------------------------------------------------------------------------\u001b[0m",
      "\u001b[1;31mNameError\u001b[0m                                 Traceback (most recent call last)",
      "Cell \u001b[1;32mIn[9], line 2\u001b[0m\n\u001b[0;32m      1\u001b[0m \u001b[38;5;241m12.\u001b[39m\n\u001b[1;32m----> 2\u001b[0m \u001b[38;5;28mprint\u001b[39m(\u001b[43mfruits\u001b[49m[\u001b[38;5;241m2\u001b[39m:\u001b[38;5;241m5\u001b[39m])  \u001b[38;5;66;03m# Output: [\"cherry\", \"orange\", \"kiwi\"]\u001b[39;00m\n",
      "\u001b[1;31mNameError\u001b[0m: name 'fruits' is not defined"
     ]
    }
   ],
   "source": [
    "12.\n",
    "print(fruits[2:5])  # Output: [\"cherry\", \"orange\", \"kiwi\"]\n"
   ]
  },
  {
   "cell_type": "code",
   "execution_count": 8,
   "metadata": {},
   "outputs": [
    {
     "ename": "NameError",
     "evalue": "name 'fruits' is not defined",
     "output_type": "error",
     "traceback": [
      "\u001b[1;31m---------------------------------------------------------------------------\u001b[0m",
      "\u001b[1;31mNameError\u001b[0m                                 Traceback (most recent call last)",
      "Cell \u001b[1;32mIn[8], line 2\u001b[0m\n\u001b[0;32m      1\u001b[0m \u001b[38;5;241m13.\u001b[39m\n\u001b[1;32m----> 2\u001b[0m \u001b[38;5;28mprint\u001b[39m(\u001b[38;5;28mlen\u001b[39m(\u001b[43mfruits\u001b[49m))  \u001b[38;5;66;03m# Output: 4\u001b[39;00m\n",
      "\u001b[1;31mNameError\u001b[0m: name 'fruits' is not defined"
     ]
    }
   ],
   "source": [
    "13.\n",
    "print(len(fruits))  # Output: 4"
   ]
  },
  {
   "cell_type": "code",
   "execution_count": 7,
   "metadata": {},
   "outputs": [
    {
     "ename": "NameError",
     "evalue": "name 'fruits' is not defined",
     "output_type": "error",
     "traceback": [
      "\u001b[1;31m---------------------------------------------------------------------------\u001b[0m",
      "\u001b[1;31mNameError\u001b[0m                                 Traceback (most recent call last)",
      "Cell \u001b[1;32mIn[7], line 2\u001b[0m\n\u001b[0;32m      1\u001b[0m \u001b[38;5;241m14.\u001b[39m\n\u001b[1;32m----> 2\u001b[0m \u001b[43mfruits\u001b[49m\u001b[38;5;241m.\u001b[39msort(reverse\u001b[38;5;241m=\u001b[39m\u001b[38;5;28;01mTrue\u001b[39;00m)\n\u001b[0;32m      3\u001b[0m \u001b[38;5;28mprint\u001b[39m(fruits)  \u001b[38;5;66;03m# Output: [\"orange\", \"kiwi\", \"lemon\", \"cherry\"]\u001b[39;00m\n",
      "\u001b[1;31mNameError\u001b[0m: name 'fruits' is not defined"
     ]
    }
   ],
   "source": [
    "14.\n",
    "fruits.sort(reverse=True)\n",
    "print(fruits)  # Output: [\"orange\", \"kiwi\", \"lemon\", \"cherry\"]"
   ]
  },
  {
   "cell_type": "code",
   "execution_count": 1,
   "metadata": {},
   "outputs": [
    {
     "name": "stdout",
     "output_type": "stream",
     "text": [
      "Hi Karwan! Happy Wednesday!\n",
      "Hi Yara! Happy Sunday!\n",
      "Error: division by zero\n",
      "Exception handling completed\n",
      "Current Full Month Name: May\n"
     ]
    }
   ],
   "source": [
    "# Import necessary modules\n",
    "import datetime\n",
    "\n",
    "# Task 15: Get current date and time and extract full month name\n",
    "current_datetime = datetime.datetime.now()\n",
    "full_month_name = current_datetime.strftime(\"%B\")  # Extract full month name\n",
    "\n",
    "# Task 16: Simple function for greeting with default day name\n",
    "def greet_user(first_name, day_name=\"Sunday\"):\n",
    "    print(f\"Hi {first_name}! Happy {day_name}!\")\n",
    "\n",
    "# Invoke the function with 2 variables\n",
    "greet_user(\"Karwan\", \"Wednesday\")\n",
    "\n",
    "# Invoke the function with 1 variable only\n",
    "greet_user(\"Yara\")\n",
    "\n",
    "# Task 17: Handling a common Python exception error\n",
    "try:\n",
    "    result = 10 / 0  # Division by zero to trigger ZeroDivisionError\n",
    "except ZeroDivisionError as e:\n",
    "    print(\"Error:\", e)\n",
    "else:\n",
    "    print(\"Division successful\")\n",
    "finally:\n",
    "    print(\"Exception handling completed\")\n",
    "\n",
    "# Print the extracted full month name\n",
    "print(\"Current Full Month Name:\", full_month_name)"
   ]
  }
 ],
 "metadata": {
  "kernelspec": {
   "display_name": "Python 3",
   "language": "python",
   "name": "python3"
  },
  "language_info": {
   "codemirror_mode": {
    "name": "ipython",
    "version": 3
   },
   "file_extension": ".py",
   "mimetype": "text/x-python",
   "name": "python",
   "nbconvert_exporter": "python",
   "pygments_lexer": "ipython3",
   "version": "3.12.3"
  }
 },
 "nbformat": 4,
 "nbformat_minor": 2
}
